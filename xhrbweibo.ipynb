{
 "cells": [
  {
   "cell_type": "code",
   "execution_count": null,
   "metadata": {},
   "outputs": [],
   "source": [
    "import requests\n",
    "import json\n",
    "\n",
    "class Spider:\n",
    "    def __init__(self):\n",
    "        self.flag = True\n",
    "        self.url_temp = \"https://m.weibo.cn/api/container/getIndex?uid=3881380517&t=0&luicode=10000011&lfid=100103type%3D1%26q%3D%E6%96%B0%E5%8D%8E%E6%97%A5%E6%8A%A5&type=uid&value=3881380517&containerid=1076033881380517\"\n",
    "        self.headers = {\n",
    "            \"User-Agent\": \"Mozilla/5.0 (Windows NT 10.0; Win64; x64) AppleWebKit/537.36 (KHTML, like Gecko) Chrome/80.0.3987.163 Safari/537.36\"\n",
    "        }\n",
    "\n",
    "    def parse_url(self, url):\n",
    "        response = requests.get(url, self.headers)\n",
    "        html_str = response.content.decode()\n",
    "        return html_str\n",
    "\n",
    "    def get_content_list(self, html_str):\n",
    "        content = json.loads(html_str)\n",
    "        if content['ok'] != 1:\n",
    "            self.flag = False\n",
    "        since_id = content['data']['cardlistInfo']['since_id']\n",
    "        print(since_id)\n",
    "        content_list = []\n",
    "        cards = content['data']['cards']\n",
    "        for c in cards:\n",
    "            if c['card_type'] == 9:\n",
    "                temp = {}\n",
    "                temp['created_at'] = c['mblog']['created_at']\n",
    "                # 记录文件内容\n",
    "                t = requests.get(\"https://m.weibo.cn/statuses/extend?id={}\".format(c[\"mblog\"][\"id\"]), self.headers)\n",
    "                text = json.loads(t.content.decode())\n",
    "                temp[\"longTextContent\"] = text['data']['longTextContent']\n",
    "                content_list.append(temp)\n",
    "\n",
    "        next_url = \"https://m.weibo.cn/api/container/getIndex?uid=3881380517&t=0&luicode=10000011&lfid=100103type%3D1%26q%3D%E6%96%B0%E5%8D%8E%E6%97%A5%E6%8A%A5&type=uid&value=3881380517&containerid=1076033881380517&since_id={}\".format(since_id)\n",
    "        return content_list,next_url\n",
    "\n",
    "    def run(self):\n",
    "        content = []\n",
    "        while self.flag:\n",
    "            html_str = self.parse_url(self.url_temp)\n",
    "            content_list,next_url = self.get_content_list(html_str)\n",
    "            self.url_temp = next_url\n",
    "\n",
    "            content.extend(content_list)\n",
    "            print(\"----------------------------------------------------------------------------------\")\n",
    "            print(content_list)\n",
    "            \n",
    "\n",
    "if __name__ == \"__main__\":\n",
    "    weibo = Spider()\n",
    "    weibo.run()"
   ]
  }
 ],
 "metadata": {
  "kernelspec": {
   "display_name": "Python 3",
   "language": "python",
   "name": "python3"
  },
  "language_info": {
   "codemirror_mode": {
    "name": "ipython",
    "version": 3
   },
   "file_extension": ".py",
   "mimetype": "text/x-python",
   "name": "python",
   "nbconvert_exporter": "python",
   "pygments_lexer": "ipython3",
   "version": "3.7.7"
  },
  "toc": {
   "base_numbering": 1,
   "nav_menu": {},
   "number_sections": true,
   "sideBar": true,
   "skip_h1_title": false,
   "title_cell": "Table of Contents",
   "title_sidebar": "Contents",
   "toc_cell": false,
   "toc_position": {},
   "toc_section_display": true,
   "toc_window_display": false
  }
 },
 "nbformat": 4,
 "nbformat_minor": 4
}
